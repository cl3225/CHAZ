{
  "nbformat": 4,
  "nbformat_minor": 0,
  "metadata": {
    "colab": {
      "provenance": [],
      "include_colab_link": true
    },
    "kernelspec": {
      "name": "python3",
      "display_name": "Python 3"
    },
    "language_info": {
      "name": "python"
    }
  },
  "cells": [
    {
      "cell_type": "markdown",
      "metadata": {
        "id": "view-in-github",
        "colab_type": "text"
      },
      "source": [
        "<a href=\"https://colab.research.google.com/github/cl3225/CHAZ/blob/main/Tutorial_chaz_pre.ipynb\" target=\"_parent\"><img src=\"https://colab.research.google.com/assets/colab-badge.svg\" alt=\"Open In Colab\"/></a>"
      ]
    },
    {
      "cell_type": "markdown",
      "source": [
        "#**Tutorial for the Columbia HAZard (CHAZ) model** - Preprocessing\n",
        "\n",
        "---\n",
        "The Beta-version of CHAZ can be downloaded from GitHub https://github.com/cl3225/CHAZ. This tutorial converts the scripts into JupyterNB for better understanding of each of the components."
      ],
      "metadata": {
        "id": "PdFZ28dSlDg_"
      }
    },
    {
      "cell_type": "markdown",
      "source": [
        "## Step 0: Set up enviroment"
      ],
      "metadata": {
        "id": "kn2vfeETleeR"
      }
    },
    {
      "cell_type": "code",
      "execution_count": 1,
      "metadata": {
        "colab": {
          "base_uri": "https://localhost:8080/"
        },
        "id": "Pr7ZmD8F39sy",
        "outputId": "ed00e1ef-58cd-459e-8b84-4ad96e29ee5d",
        "collapsed": true
      },
      "outputs": [
        {
          "output_type": "stream",
          "name": "stdout",
          "text": [
            "Collecting netCDF4\n",
            "  Downloading netCDF4-1.7.0-cp310-cp310-manylinux_2_28_x86_64.whl (9.7 MB)\n",
            "\u001b[2K     \u001b[90m━━━━━━━━━━━━━━━━━━━━━━━━━━━━━━━━━━━━━━━━\u001b[0m \u001b[32m9.7/9.7 MB\u001b[0m \u001b[31m24.2 MB/s\u001b[0m eta \u001b[36m0:00:00\u001b[0m\n",
            "\u001b[?25hCollecting cftime (from netCDF4)\n",
            "  Downloading cftime-1.6.4-cp310-cp310-manylinux_2_17_x86_64.manylinux2014_x86_64.whl (1.3 MB)\n",
            "\u001b[2K     \u001b[90m━━━━━━━━━━━━━━━━━━━━━━━━━━━━━━━━━━━━━━━━\u001b[0m \u001b[32m1.3/1.3 MB\u001b[0m \u001b[31m19.6 MB/s\u001b[0m eta \u001b[36m0:00:00\u001b[0m\n",
            "\u001b[?25hRequirement already satisfied: certifi in /usr/local/lib/python3.10/dist-packages (from netCDF4) (2024.6.2)\n",
            "Requirement already satisfied: numpy in /usr/local/lib/python3.10/dist-packages (from netCDF4) (1.25.2)\n",
            "Installing collected packages: cftime, netCDF4\n",
            "Successfully installed cftime-1.6.4 netCDF4-1.7.0\n"
          ]
        }
      ],
      "source": [
        "!pip install netCDF4"
      ]
    },
    {
      "cell_type": "code",
      "source": [
        "import numpy as np\n",
        "import xarray as xr\n",
        "from datetime import datetime\n",
        "import sys\n",
        "import subprocess\n",
        "import copy\n",
        "from scipy import linalg\n",
        "from scipy.interpolate import interp1d\n",
        "from calendar import monthrange\n",
        "from netCDF4 import Dataset\n",
        "from scipy.interpolate import RectBivariateSpline\n",
        "\n",
        "#import matplotlib.pyplot as plt\n",
        "import warnings\n",
        "warnings.filterwarnings('ignore')"
      ],
      "metadata": {
        "id": "NlHvK7lZ4D75"
      },
      "execution_count": 11,
      "outputs": []
    },
    {
      "cell_type": "markdown",
      "source": [
        "## Step 1: Set up pasic parameters"
      ],
      "metadata": {
        "id": "fOgF12wzmcVl"
      }
    },
    {
      "cell_type": "code",
      "source": [
        "# Basic parameters:\n",
        "\n",
        "yearTC = 2017\n",
        "path_data = 'doi:10.5281/zenodo.11631930' # public data available at https://zenodo.org/records/11628647"
      ],
      "metadata": {
        "id": "4M1T8iVgVwdw"
      },
      "execution_count": 3,
      "outputs": []
    },
    {
      "cell_type": "markdown",
      "source": [
        "## Step 2: Preparing large-scale indicies & diagnostic variables\n",
        "### Calculate the PI data. >> ds_pi\n",
        "Here, we provide the code but don't run it, instead we directly load the PI data for the sake of time.\n",
        "Python package [tcpyPI](https://github.com/dgilford/tcpyPI) is used."
      ],
      "metadata": {
        "id": "CwpZkHBn74WZ"
      }
    },
    {
      "cell_type": "code",
      "source": [
        "import pooch\n",
        "\n",
        "'''\n",
        "# Code to calculate ds_pi:\n",
        "# load in pyPI modules\n",
        "from tcpyPI import pi\n",
        "from tcpyPI.utilities import *\n",
        "\n",
        "def f_PI(ds, dim='p',CKCD=0.9):\n",
        "    \"\"\" This function calculates PI over the given dataset using xarray \"\"\"\n",
        "    # calculate PI over the whole data set using the xarray universal function\n",
        "    result = xr.apply_ufunc(\n",
        "        pi,\n",
        "        ds['sst'], ds['msl'], ds[dim], ds['t'], ds['q'],\n",
        "        kwargs=dict(CKCD=CKCD, ascent_flag=0, diss_flag=1.0, V_reduc=0.8, ptop=30, miss_handle=0),\n",
        "        input_core_dims=[[], [], [dim, ], [dim, ], [dim, ],],\n",
        "        output_core_dims=[[], [], [], [], []],\n",
        "        vectorize=True   # Vectorize the operation for better performance\n",
        "    )\n",
        "\n",
        "    # store the result in an xarray data structure\n",
        "    vmax, pmin, ifl, t0, otl = result\n",
        "    vmax = vmax.fillna(0)\n",
        "\n",
        "    out_ds=xr.Dataset({\n",
        "        'vmax': vmax,\n",
        "        'pmin': pmin,\n",
        "        'ifl': ifl,\n",
        "        't0': t0,\n",
        "        'otl': otl,\n",
        "        })\n",
        "\n",
        "    # add names and units to the structure\n",
        "    out_ds.vmax.attrs['standard_name'],out_ds.vmax.attrs['units']='Maximum Potential Intensity','m/s'\n",
        "    out_ds.pmin.attrs['standard_name'],out_ds.pmin.attrs['units']='Minimum Central Pressure','hPa'\n",
        "    out_ds.ifl.attrs['standard_name']='pyPI Flag'\n",
        "    out_ds.t0.attrs['standard_name'],out_ds.t0.attrs['units']='Outflow Temperature','K'\n",
        "    out_ds.otl.attrs['standard_name'],out_ds.otl.attrs['units']='Outflow Temperature Level','hPa'\n",
        "\n",
        "    # return the output from pi.py as an xarray data structure\n",
        "    return out_ds\n",
        "\n",
        "# Load data:\n",
        "\n",
        "time_slice = slice(f'{yearTC}-01-01',f'{yearTC}-12-31')\n",
        "\n",
        "fopen = pooch.retrieve(url=f\"{path_data}/sea_surface_temperature_{yearTC}.nc\",  known_hash=None)\n",
        "ds_sst = xr.open_dataset(fopen).sel(time=time_slice).sst\n",
        "\n",
        "fopen = pooch.retrieve(url=f\"{path_data}/mean_sea_level_pressure_{yearTC}.nc\",  known_hash=None)\n",
        "ds_msl = xr.open_dataset(fopen).sel(time=time_slice).msl\n",
        "\n",
        "fopen = pooch.retrieve(url=f\"{path_data}/temperature_{yearTC}.nc\",  known_hash=None)\n",
        "ds_t = xr.open_dataset(fopen).sel(time=time_slice).t.sortby('level', ascending=False)\n",
        "\n",
        "fopen = pooch.retrieve(url=f\"{path_data}/specific_humidity_{yearTC}.nc\",  known_hash=None)\n",
        "ds_q = xr.open_dataset(fopen).sel(time=time_slice).q.sortby('level', ascending=False)\n",
        "\n",
        "if sst.units== 'K':\n",
        "    sst -= 273.15  # K >> degC\n",
        "if msl.units=='Pa':\n",
        "    msl /=100 # # Pa >> hPa\n",
        "if t.units== 'K':\n",
        "    t -= 273.15  # K >> degC\n",
        "if q.units=='kg kg**-1':\n",
        "    q *=1000 #kg/kg *1000 >> g/kg\n",
        "\n",
        "# create new dataset that contains all the input variables\n",
        "ds = xr.Dataset(\n",
        "    data_vars=dict(\n",
        "        sst = (['time','lat','lon'], ds_sst.data),\n",
        "        msl = (['time','lat','lon'], ds_msl.data),\n",
        "        t = (['time','p','lat','lon'], ds_t.data),\n",
        "        q = (['time','p','lat','lon'], ds_q.data), ),\n",
        "    coords=dict(\n",
        "        p=(\"p\", t.level.data),\n",
        "        lat=(\"lat\", sst.latitude.data),\n",
        "        lon=(\"lon\", sst.longitude.data),\n",
        "        time=(\"time\", sst.time.data),))\n",
        "\n",
        "# Regrid to 2deg to speed up\n",
        "regridder = xe.Regridder(ds, grid_2deg, 'bilinear')\n",
        "ds_rg = regridder(ds)\n",
        "\n",
        "# Calulate PI:\n",
        "ds_PI = f_PI(ds_rg)\n",
        "'''\n",
        "\n",
        "fopen = pooch.retrieve(url=f\"{path_data}/PI_{yearTC}.nc\",  known_hash='4fa7388fbd896c5ceb1b1a8dd4a88dd5352973e07471a5cb7d96643cd2263e87')\n",
        "ds_pi = xr.open_dataset(fopen)"
      ],
      "metadata": {
        "id": "POw0EMg84FTG",
        "colab": {
          "base_uri": "https://localhost:8080/"
        },
        "outputId": "8e0a4f2d-4275-49d4-ac77-698c7df815de"
      },
      "execution_count": 4,
      "outputs": [
        {
          "output_type": "stream",
          "name": "stderr",
          "text": [
            "Downloading data from 'doi:10.5281/zenodo.11631930/PI_2017.nc' to file '/root/.cache/pooch/61cddf775f86bda4a5e64ca3fe3da61d-PI_2017.nc'.\n"
          ]
        }
      ]
    },
    {
      "cell_type": "markdown",
      "source": [
        "### Calculate TCGI >> ds_tcgi_crh & ds_tcgi_sd\n",
        "TCGI is a genesis index for estimating probability of TC formation rate in time and space. Here, we provide the TCGI data. The TCGI code will be released in soon. Meanwhile, please contact Prof. Suzana Camargo at Columbia Univeristy if you need it.\n",
        "\n",
        "Alternatively, you can use observed TC foramtion probability or other forms of TC genesis indices"
      ],
      "metadata": {
        "id": "Fqj9U2Vu8_Lv"
      }
    },
    {
      "cell_type": "code",
      "source": [
        "'''\n",
        "## Source code for tcgi calculation:\n",
        "\n",
        "'''\n",
        "\n",
        "fopen = pooch.retrieve( url=f\"{path_data}/TCGI_CRH_PI_{yearTC}.nc\",\n",
        "                        known_hash='a8d3e6dfbbd4bd4ea149876318132bfc04f6c1e6bfa6081570bd38ff3137004e' )\n",
        "ds_tcgi_crh = xr.open_dataset(fopen)\n",
        "\n",
        "fopen = pooch.retrieve( url=f\"{path_data}/TCGI_SD_PI_{yearTC}.nc\",\n",
        "                        known_hash='d7e7e6bd46117a45057da7321402cc3335bb92d946e75eed1446185aef985fad' )\n",
        "ds_tcgi_sd = xr.open_dataset(fopen)"
      ],
      "metadata": {
        "id": "0NzrGg3F4laI",
        "colab": {
          "base_uri": "https://localhost:8080/"
        },
        "outputId": "be47deb8-f523-4f61-a977-dbea1d8b80cb"
      },
      "execution_count": 5,
      "outputs": [
        {
          "output_type": "stream",
          "name": "stderr",
          "text": [
            "Downloading data from 'doi:10.5281/zenodo.11631930/TCGI_CRH_PI_2017.nc' to file '/root/.cache/pooch/eca501f8ba777271eb67bee3fa3fb88c-TCGI_CRH_PI_2017.nc'.\n",
            "Downloading data from 'doi:10.5281/zenodo.11631930/TCGI_SD_PI_2017.nc' to file '/root/.cache/pooch/a813ae0e5c449a3f6ce447287869de89-TCGI_SD_PI_2017.nc'.\n"
          ]
        }
      ]
    },
    {
      "cell_type": "markdown",
      "source": [
        "### Calculate the variance of the syntheric 250 and 850 hpa wind flow for TC tracks generation >> ds_cov; A_matrix"
      ],
      "metadata": {
        "id": "32-77PAPUnlj"
      }
    },
    {
      "cell_type": "code",
      "source": [
        "## Functions for calculating cov and A:\n",
        "\n",
        "def my_cov(x, y, naxis):\n",
        "    \"\"\"\n",
        "    Calculate the covariance matrix.\n",
        "    \"\"\"\n",
        "    n = x.shape[naxis]\n",
        "    cov_bias = np.mean(x * y, axis=naxis) - (np.mean(x, axis=naxis) * np.mean(y, axis=naxis))\n",
        "    cov_bias = cov_bias * n / (n - 1)\n",
        "    return cov_bias\n",
        "\n",
        "def fillinNaN(var, neighbors):\n",
        "    \"\"\"\n",
        "    Replace masked areas using interpolation.\n",
        "    \"\"\"\n",
        "    for ii in range(var.shape[0]):\n",
        "        a = var[ii, :, :]\n",
        "        while np.any(a.mask):\n",
        "            a_copy = a.copy()\n",
        "            for hor_shift, vert_shift in neighbors:\n",
        "                if not np.any(a.mask):\n",
        "                    break\n",
        "                a_shifted = np.roll(np.roll(a_copy, shift=hor_shift, axis=1), shift=vert_shift, axis=0)\n",
        "                idx = a.mask & ~a_shifted.mask\n",
        "                a[idx] = a_shifted[idx]\n",
        "        var[ii, :, :] = a\n",
        "    return var\n",
        "\n",
        "def date_interpolation(dateInput,fileInput):\n",
        "        \"\"\"\n",
        "        fileInput is a 3-d gloabl fields  with time-axis on the first column, eg. fileInput[it,ix,iy]\n",
        "        the function return fields interpolated linearly to date on dateInput.\n",
        "        if dateInput.month is December, then it returns Dec. field\n",
        "        \"\"\"\n",
        "        if dateInput.day >= 15:\n",
        "                if dateInput.month < 12:\n",
        "                        date0 = datetime(dateInput.year,dateInput.month,15,0,0)\n",
        "                        date1 = datetime(dateInput.year,dateInput.month+1,15,0,0)\n",
        "                        dfdays = (dateInput-date0).days\n",
        "                        xp = [0, (date1-date0).days]\n",
        "                        ratio = np.interp(dfdays,xp,[0,1])\n",
        "                        fileOutput = fileInput[dateInput.month-1,:,:]*(1-ratio)+fileInput[dateInput.month,:,:]*(ratio)\n",
        "                else:\n",
        "                        fileOutput= fileInput[dateInput.month-1,:,:]\n",
        "        else:\n",
        "                if dateInput.month == 1:\n",
        "                        fileOutput= fileInput[dateInput.month-1,:,:]\n",
        "                else:\n",
        "                        date0 = datetime(dateInput.year,dateInput.month-1,15,0,0)\n",
        "                        date1 = datetime(dateInput.year,dateInput.month,15,0,0)\n",
        "                        dfdays = (dateInput-date0).days\n",
        "                        xp = [0, (date1-date0).days]\n",
        "                        ratio = np.interp(dfdays,xp,[0,1])\n",
        "                        fileOutput = fileInput[dateInput.month-2,:,:]*(1-ratio)+fileInput[dateInput.month-1,:,:]*ratio\n",
        "        return fileOutput\n",
        "\n",
        "# code to save the A matrix; per month:\n",
        "def createNetCDF_A(A1,iy,im,xllon,xllat,path):\n",
        "        \"\"\"\n",
        "        crerate NetCDF file for the syn wind, it will be 124MB each\n",
        "        \"\"\"\n",
        "        nc = Dataset(f'A_{iy:04d}{im:02d}.nc','w',format='NETCDF3_CLASSIC')\n",
        "        nc.createDimension('latitude',xllat.shape[0])\n",
        "        nc.createDimension('longitude',xllon.shape[0])\n",
        "        nc.createDimension('days',A1.shape[3])\n",
        "        nc.createDimension('Adim',A1.shape[0])\n",
        "        lats = nc.createVariable('latitude',np.dtype('float32').char,('latitude',))\n",
        "        lons = nc.createVariable('longitude',np.dtype('float32').char,('longitude',))\n",
        "        days = nc.createVariable('days',np.dtype('int32').char,('days',))\n",
        "        Adim = nc.createVariable('Adim',np.dtype('int32').char,('Adim',))\n",
        "        lats.units = 'degrees_north'\n",
        "        lons.units = 'degrees_east'\n",
        "        days.units = 'days_in_month'\n",
        "        Adim.units = 'dimensions_in_A'\n",
        "        lats[:] = xllat\n",
        "        lons[:] = xllon\n",
        "        days[:] = list(range(0,A1.shape[3],1))\n",
        "        Adim[:] = list(range(0,A1.shape[0],1))\n",
        "        AA = nc.createVariable('A',np.dtype('float32').char,('Adim','days','latitude','longitude'))\n",
        "        AA.units = ''\n",
        "        AA[:] = np.rollaxis(A1,3,1)\n",
        "        nc.close()\n",
        "        return()"
      ],
      "metadata": {
        "id": "hoWzWxF87uOb"
      },
      "execution_count": 6,
      "outputs": []
    },
    {
      "cell_type": "code",
      "source": [
        "iy = copy.copy(yearTC)\n",
        "## Load montly and daily u, v wind field   #  Here use ERA5 as the example, can be modify to model simulation data:\n",
        "print(f'Calculating covarience between monthly and daily winds for SEASON {iy} .....\\n')\n",
        "\n",
        "fopen  = pooch.retrieve( url=f\"{path_data}/u_v_850_250_2deg_2017_monthly.nc\", known_hash=None )\n",
        "ds_uvm = xr.open_dataset(fopen)\n",
        "\n",
        "fopen  = pooch.retrieve( url=f\"{path_data}/u_v_850_250_2deg_2017_daily.nc\", known_hash=None )\n",
        "ds_uvd = xr.open_dataset(fopen)\n",
        "\n",
        "\n",
        "## [1] Interpolate monthly data to daily data\n",
        "d = np.arange(0, ds_uvd.time.shape[0])\n",
        "\n",
        "#     1) Def interpolation func.\n",
        "def interpolate_monthly_to_daily(monthly_data, d):\n",
        "  ndays_year = 0\n",
        "  m = []\n",
        "  for im in range(1,13):\n",
        "    m.append([monthrange(iy,im)[1]/2+ndays_year])\n",
        "    ndays_year = ndays_year+monthrange(iy,im)[1]\n",
        "  m = np.squeeze(np.int_(m)-1) #print(m)\n",
        "  f = interp1d(m, monthly_data, bounds_error=False,fill_value=\"extrapolate\",axis=0)\n",
        "  return f(d)\n",
        "\n",
        "#      2) Interpolate montly data to daily data:\n",
        "ua250md = interpolate_monthly_to_daily(ds_uvm.u250.values, d)\n",
        "va250md = interpolate_monthly_to_daily(ds_uvm.v250.values, d)\n",
        "ua850md = interpolate_monthly_to_daily(ds_uvm.u850.values, d)\n",
        "va850md = interpolate_monthly_to_daily(ds_uvm.v850.values, d)\n",
        "\n",
        "## [2] Now we calculate the monthly cov.\n",
        "#     1) Initialize covariance matrix; #varx-vary converience; total 10\n",
        "var_pairs = ['u250pu250p', 'u250pv250p', 'u250pu850p', 'u250pv850p',\n",
        "              'v250pv250p', 'v250pu850p', 'v250pv850p',\n",
        "              'u850pu850p', 'u850pv850p', 'v850pv850p']\n",
        "\n",
        "covMatrix = np.zeros([len(var_pairs), 12, va250md.shape[1], va250md.shape[2]])\n",
        "\n",
        "#     2) Generate month indices for quick access\n",
        "month_indices = {im: list(np.where(ds_uvd['time.month'].values == im)[0]) for im in range(1, 13)}\n",
        "\n",
        "#     3) Loop through each month to calculate the COV\n",
        "for im in range(1, 12+1):\n",
        "    indices = month_indices[im]\n",
        "    u250p = ds_uvd.u250.values[indices, :, :] - ua250md[indices, :, :]\n",
        "    u850p = ds_uvd.u850.values[indices, :, :] - ua850md[indices, :, :]\n",
        "    v250p = ds_uvd.v250.values[indices, :, :] - va250md[indices, :, :]\n",
        "    v850p = ds_uvd.v850.values[indices, :, :] - va850md[indices, :, :]\n",
        "\n",
        "    var_data = {  'u250p': u250p.reshape([u250p.shape[0], u250p.shape[1] * u250p.shape[2]]),\n",
        "                  'v250p': v250p.reshape([u250p.shape[0], u250p.shape[1] * u250p.shape[2]]),\n",
        "                  'u850p': u850p.reshape([u250p.shape[0], u250p.shape[1] * u250p.shape[2]]),\n",
        "                  'v850p': v850p.reshape([u250p.shape[0], u250p.shape[1] * u250p.shape[2]]) }\n",
        "\n",
        "    for ivar, var_pair in enumerate(var_pairs):\n",
        "        varx_name = var_pair[:5]\n",
        "        varx = var_data[varx_name]\n",
        "\n",
        "        vary_name = var_pair[-5:]\n",
        "        vary = var_data[vary_name]\n",
        "\n",
        "        covMatrix[ivar, im-1,:,:] = my_cov(varx, vary, 0).reshape([u250p.shape[1], u250p.shape[2]])\n",
        "        print(f'Get cov for {iy} , month {im}, between {varx_name} & {vary_name}')\n",
        "\n",
        "## Save the COV data:\n",
        "ds_cov = xr.Dataset({vname: (('month', 'lat', 'lon'), covMatrix[idx])\n",
        "                for idx, vname in enumerate(var_pairs)},\n",
        "                    coords={\n",
        "                        'month': np.arange(1, 12 + 1),\n",
        "                        'lat': ds_uvm.lat.values,\n",
        "                        'lon': ds_uvm.lon.values\n",
        "                        }\n",
        "                )\n",
        "\n",
        "ds_cov['lat'].attrs['units'] = 'degrees_north'\n",
        "ds_cov['lon'].attrs['units'] = 'degrees_east'\n",
        "ds_cov['month'].attrs['units'] = 'month_in_year'\n",
        "for vname in var_pairs:\n",
        "    ds_cov[vname].attrs['units'] = '(m/s)^2'"
      ],
      "metadata": {
        "colab": {
          "base_uri": "https://localhost:8080/"
        },
        "collapsed": true,
        "id": "hlS5f6IjQtO0",
        "outputId": "2d581d83-9b02-478b-bbcd-067070134cbc"
      },
      "execution_count": 10,
      "outputs": [
        {
          "output_type": "stream",
          "name": "stdout",
          "text": [
            "Calculating covarience between monthly and daily winds for SEASON 2017 .....\n",
            "\n",
            "Get cov for 2017 , month 1, between u250p & u250p\n",
            "Get cov for 2017 , month 1, between u250p & v250p\n",
            "Get cov for 2017 , month 1, between u250p & u850p\n",
            "Get cov for 2017 , month 1, between u250p & v850p\n",
            "Get cov for 2017 , month 1, between v250p & v250p\n",
            "Get cov for 2017 , month 1, between v250p & u850p\n",
            "Get cov for 2017 , month 1, between v250p & v850p\n",
            "Get cov for 2017 , month 1, between u850p & u850p\n",
            "Get cov for 2017 , month 1, between u850p & v850p\n",
            "Get cov for 2017 , month 1, between v850p & v850p\n",
            "Get cov for 2017 , month 2, between u250p & u250p\n",
            "Get cov for 2017 , month 2, between u250p & v250p\n",
            "Get cov for 2017 , month 2, between u250p & u850p\n",
            "Get cov for 2017 , month 2, between u250p & v850p\n",
            "Get cov for 2017 , month 2, between v250p & v250p\n",
            "Get cov for 2017 , month 2, between v250p & u850p\n",
            "Get cov for 2017 , month 2, between v250p & v850p\n",
            "Get cov for 2017 , month 2, between u850p & u850p\n",
            "Get cov for 2017 , month 2, between u850p & v850p\n",
            "Get cov for 2017 , month 2, between v850p & v850p\n",
            "Get cov for 2017 , month 3, between u250p & u250p\n",
            "Get cov for 2017 , month 3, between u250p & v250p\n",
            "Get cov for 2017 , month 3, between u250p & u850p\n",
            "Get cov for 2017 , month 3, between u250p & v850p\n",
            "Get cov for 2017 , month 3, between v250p & v250p\n",
            "Get cov for 2017 , month 3, between v250p & u850p\n",
            "Get cov for 2017 , month 3, between v250p & v850p\n",
            "Get cov for 2017 , month 3, between u850p & u850p\n",
            "Get cov for 2017 , month 3, between u850p & v850p\n",
            "Get cov for 2017 , month 3, between v850p & v850p\n",
            "Get cov for 2017 , month 4, between u250p & u250p\n",
            "Get cov for 2017 , month 4, between u250p & v250p\n",
            "Get cov for 2017 , month 4, between u250p & u850p\n",
            "Get cov for 2017 , month 4, between u250p & v850p\n",
            "Get cov for 2017 , month 4, between v250p & v250p\n",
            "Get cov for 2017 , month 4, between v250p & u850p\n",
            "Get cov for 2017 , month 4, between v250p & v850p\n",
            "Get cov for 2017 , month 4, between u850p & u850p\n",
            "Get cov for 2017 , month 4, between u850p & v850p\n",
            "Get cov for 2017 , month 4, between v850p & v850p\n",
            "Get cov for 2017 , month 5, between u250p & u250p\n",
            "Get cov for 2017 , month 5, between u250p & v250p\n",
            "Get cov for 2017 , month 5, between u250p & u850p\n",
            "Get cov for 2017 , month 5, between u250p & v850p\n",
            "Get cov for 2017 , month 5, between v250p & v250p\n",
            "Get cov for 2017 , month 5, between v250p & u850p\n",
            "Get cov for 2017 , month 5, between v250p & v850p\n",
            "Get cov for 2017 , month 5, between u850p & u850p\n",
            "Get cov for 2017 , month 5, between u850p & v850p\n",
            "Get cov for 2017 , month 5, between v850p & v850p\n",
            "Get cov for 2017 , month 6, between u250p & u250p\n",
            "Get cov for 2017 , month 6, between u250p & v250p\n",
            "Get cov for 2017 , month 6, between u250p & u850p\n",
            "Get cov for 2017 , month 6, between u250p & v850p\n",
            "Get cov for 2017 , month 6, between v250p & v250p\n",
            "Get cov for 2017 , month 6, between v250p & u850p\n",
            "Get cov for 2017 , month 6, between v250p & v850p\n",
            "Get cov for 2017 , month 6, between u850p & u850p\n",
            "Get cov for 2017 , month 6, between u850p & v850p\n",
            "Get cov for 2017 , month 6, between v850p & v850p\n",
            "Get cov for 2017 , month 7, between u250p & u250p\n",
            "Get cov for 2017 , month 7, between u250p & v250p\n",
            "Get cov for 2017 , month 7, between u250p & u850p\n",
            "Get cov for 2017 , month 7, between u250p & v850p\n",
            "Get cov for 2017 , month 7, between v250p & v250p\n",
            "Get cov for 2017 , month 7, between v250p & u850p\n",
            "Get cov for 2017 , month 7, between v250p & v850p\n",
            "Get cov for 2017 , month 7, between u850p & u850p\n",
            "Get cov for 2017 , month 7, between u850p & v850p\n",
            "Get cov for 2017 , month 7, between v850p & v850p\n",
            "Get cov for 2017 , month 8, between u250p & u250p\n",
            "Get cov for 2017 , month 8, between u250p & v250p\n",
            "Get cov for 2017 , month 8, between u250p & u850p\n",
            "Get cov for 2017 , month 8, between u250p & v850p\n",
            "Get cov for 2017 , month 8, between v250p & v250p\n",
            "Get cov for 2017 , month 8, between v250p & u850p\n",
            "Get cov for 2017 , month 8, between v250p & v850p\n",
            "Get cov for 2017 , month 8, between u850p & u850p\n",
            "Get cov for 2017 , month 8, between u850p & v850p\n",
            "Get cov for 2017 , month 8, between v850p & v850p\n",
            "Get cov for 2017 , month 9, between u250p & u250p\n",
            "Get cov for 2017 , month 9, between u250p & v250p\n",
            "Get cov for 2017 , month 9, between u250p & u850p\n",
            "Get cov for 2017 , month 9, between u250p & v850p\n",
            "Get cov for 2017 , month 9, between v250p & v250p\n",
            "Get cov for 2017 , month 9, between v250p & u850p\n",
            "Get cov for 2017 , month 9, between v250p & v850p\n",
            "Get cov for 2017 , month 9, between u850p & u850p\n",
            "Get cov for 2017 , month 9, between u850p & v850p\n",
            "Get cov for 2017 , month 9, between v850p & v850p\n",
            "Get cov for 2017 , month 10, between u250p & u250p\n",
            "Get cov for 2017 , month 10, between u250p & v250p\n",
            "Get cov for 2017 , month 10, between u250p & u850p\n",
            "Get cov for 2017 , month 10, between u250p & v850p\n",
            "Get cov for 2017 , month 10, between v250p & v250p\n",
            "Get cov for 2017 , month 10, between v250p & u850p\n",
            "Get cov for 2017 , month 10, between v250p & v850p\n",
            "Get cov for 2017 , month 10, between u850p & u850p\n",
            "Get cov for 2017 , month 10, between u850p & v850p\n",
            "Get cov for 2017 , month 10, between v850p & v850p\n",
            "Get cov for 2017 , month 11, between u250p & u250p\n",
            "Get cov for 2017 , month 11, between u250p & v250p\n",
            "Get cov for 2017 , month 11, between u250p & u850p\n",
            "Get cov for 2017 , month 11, between u250p & v850p\n",
            "Get cov for 2017 , month 11, between v250p & v250p\n",
            "Get cov for 2017 , month 11, between v250p & u850p\n",
            "Get cov for 2017 , month 11, between v250p & v850p\n",
            "Get cov for 2017 , month 11, between u850p & u850p\n",
            "Get cov for 2017 , month 11, between u850p & v850p\n",
            "Get cov for 2017 , month 11, between v850p & v850p\n",
            "Get cov for 2017 , month 12, between u250p & u250p\n",
            "Get cov for 2017 , month 12, between u250p & v250p\n",
            "Get cov for 2017 , month 12, between u250p & u850p\n",
            "Get cov for 2017 , month 12, between u250p & v850p\n",
            "Get cov for 2017 , month 12, between v250p & v250p\n",
            "Get cov for 2017 , month 12, between v250p & u850p\n",
            "Get cov for 2017 , month 12, between v250p & v850p\n",
            "Get cov for 2017 , month 12, between u850p & u850p\n",
            "Get cov for 2017 , month 12, between u850p & v850p\n",
            "Get cov for 2017 , month 12, between v850p & v850p\n"
          ]
        }
      ]
    },
    {
      "cell_type": "code",
      "source": [
        "%%time\n",
        "# if ds_cov is not calculated, load from the path_data:\n",
        "# fopen = pooch.retrieve(url=f\"{path_data}/Cov_2017_2deg.nc\", known_hash=None)\n",
        "# ds_cov = xr.open_dataset(fopen)\n",
        "\n",
        "nlat = ds_cov.lat.shape[0]\n",
        "nlon = ds_cov.lon.shape[0]\n",
        "ncov = len(ds_cov.data_vars)\n",
        "xllon = ds_cov.variables['lon'].values\n",
        "xllat = ds_cov.variables['lat'].values\n",
        "\n",
        "# Extract the covariance data\n",
        "var = ['u250p', 'v250p', 'u850p', 'v850p']\n",
        "cov = {}\n",
        "for iv in range(len(var)):\n",
        "    for iiv in range(iv, len(var)):\n",
        "        vname = var[iv] + var[iiv]\n",
        "        cov[vname] = ds_cov[vname].values\n",
        "        cov[vname][:, 0, :] = cov[vname][:, 1, :]\n",
        "        cov[vname][:, -1, :] = cov[vname][:, -2, :]\n",
        "\n",
        "for im in range(1, 12 + 1):\n",
        "    nday = monthrange(iy, im)[1]\n",
        "    dates = [datetime(iy, im, iday, 0, 0) for iday in range(1, nday + 1)]\n",
        "\n",
        "    # Perform date interpolation for all dates at once\n",
        "    cov2d = {vname: np.dstack([date_interpolation(date, cov[vname]) for date in dates]) for vname in cov}\n",
        "\n",
        "    a_shape = cov2d[list(cov2d.keys())[0]].shape\n",
        "    covm2d = np.stack([cov2d[vname] for vname in cov2d], axis=0)\n",
        "\n",
        "    covv = np.zeros((4, 4) + a_shape)\n",
        "    covv[0, :, :, :, :] = covm2d[:4, :, :, :]\n",
        "    covv[1, 1:, :, :, :] = covm2d[4:7, :, :, :]\n",
        "    covv[2, 2:, :, :, :] = covm2d[7:9, :, :, :]\n",
        "    covv[3, 3, :, :, :] = covm2d[9, :, :, :]\n",
        "\n",
        "    # Vectorize the Cholesky decomposition\n",
        "    A = np.zeros_like(covv)\n",
        "    mask = np.isnan(covv).any(axis=(0, 1))\n",
        "    covv_clean = covv[:, :, ~mask]\n",
        "    A_clean = np.linalg.cholesky(covv_clean.T).T\n",
        "    A[:, :, ~mask] = A_clean\n",
        "\n",
        "    A2 = np.zeros((10,) + a_shape)\n",
        "    A2[0, :, :, :] = A[0, 0, :, :, :]\n",
        "    A2[1, :, :, :] = A[1, 0, :, :, :]\n",
        "    A2[2, :, :, :] = A[1, 1, :, :, :]\n",
        "    A2[3, :, :, :] = A[2, 0, :, :, :]\n",
        "    A2[4, :, :, :] = A[2, 1, :, :, :]\n",
        "    A2[5, :, :, :] = A[2, 2, :, :, :]\n",
        "    A2[6, :, :, :] = A[3, 0, :, :, :]\n",
        "    A2[7, :, :, :] = A[3, 1, :, :, :]\n",
        "    A2[8, :, :, :] = A[3, 2, :, :, :]\n",
        "    A2[9, :, :, :] = A[3, 3, :, :, :]\n",
        "\n",
        "    print(f'calculate A for {yearTC}-{im}, A.shape = ', A2.shape)\n",
        "\n",
        "    createNetCDF_A(A2, iy, im, xllon, xllat, './')"
      ],
      "metadata": {
        "colab": {
          "base_uri": "https://localhost:8080/"
        },
        "id": "lV99wltTfZ0R",
        "outputId": "d16e9274-eb78-475b-bc1b-59420b7cc652"
      },
      "execution_count": 12,
      "outputs": [
        {
          "output_type": "stream",
          "name": "stdout",
          "text": [
            "calculate A for 2017-1, A.shape =  (10, 90, 180, 31)\n",
            "calculate A for 2017-2, A.shape =  (10, 90, 180, 28)\n",
            "calculate A for 2017-3, A.shape =  (10, 90, 180, 31)\n",
            "calculate A for 2017-4, A.shape =  (10, 90, 180, 30)\n",
            "calculate A for 2017-5, A.shape =  (10, 90, 180, 31)\n",
            "calculate A for 2017-6, A.shape =  (10, 90, 180, 30)\n",
            "calculate A for 2017-7, A.shape =  (10, 90, 180, 31)\n",
            "calculate A for 2017-8, A.shape =  (10, 90, 180, 31)\n",
            "calculate A for 2017-9, A.shape =  (10, 90, 180, 30)\n",
            "calculate A for 2017-10, A.shape =  (10, 90, 180, 31)\n",
            "calculate A for 2017-11, A.shape =  (10, 90, 180, 30)\n",
            "calculate A for 2017-12, A.shape =  (10, 90, 180, 31)\n",
            "CPU times: user 4.46 s, sys: 2.2 s, total: 6.66 s\n",
            "Wall time: 6.95 s\n"
          ]
        }
      ]
    },
    {
      "cell_type": "markdown",
      "source": [
        "## Step 3: Get the predictors for TC intensity model >> ds_regrid"
      ],
      "metadata": {
        "id": "aXBAdKxQVIv4"
      }
    },
    {
      "cell_type": "code",
      "source": [
        "def interp2_fx(lon, lat, X):\n",
        "    if lat[1] - lat[0] < 0:\n",
        "        # Reverse grid since x and y must be strictly increasing.\n",
        "        r_lat = np.flip(lat, 0)\n",
        "        r_X = np.flip(X, 0).T\n",
        "    else:\n",
        "        r_lat = lat\n",
        "        r_X = X.T\n",
        "\n",
        "    # Interpolate SST grid to the model grid.\n",
        "    f_X = RectBivariateSpline(lon, r_lat, r_X, kx=1, ky=1)\n",
        "    return(f_X)\n",
        "\n",
        "\"\"\"\n",
        "2-D interpolation. Interpolates a field X (dimensions [lat, lon]),\n",
        "to a grid defined by [lat_grid, lon_grid].\n",
        "\"\"\"\n",
        "def interp_2d_grid(lon, lat, X, lon_grid, lat_grid):\n",
        "    f_X = interp2_fx(lon, lat, X)\n",
        "\n",
        "    LON, LAT = np.meshgrid(lon_grid, lat_grid)\n",
        "    X_grid = f_X.ev(LON, LAT)\n",
        "    return(X_grid)\n"
      ],
      "metadata": {
        "id": "w27kKoDzD94l"
      },
      "execution_count": 13,
      "outputs": []
    },
    {
      "cell_type": "code",
      "source": [
        "# Calculation of predictors:\n",
        "time_slice = slice(f'{yearTC}-01-01',f'{yearTC}-12-31')\n",
        "fopen = pooch.retrieve( url=f\"{path_data}/u_component_of_wind_{iy}.nc\", known_hash=None )\n",
        "ds_u= xr.open_dataset(fopen)\n",
        "\n",
        "fopen = pooch.retrieve( url=f\"{path_data}/v_component_of_wind_{iy}.nc\", known_hash=None )\n",
        "ds_v= xr.open_dataset(fopen)\n",
        "\n",
        "fopen = pooch.retrieve( url=f\"{path_data}/relative_humidity_{iy}.nc\", known_hash=None )\n",
        "ds_r= xr.open_dataset(fopen)\n",
        "\n",
        "\n",
        "u850 = ds_u.sel(level=850, method='nearest').u\n",
        "u250 = ds_u.sel(level=250, method='nearest').u\n",
        "v850 = ds_v.sel(level=850, method='nearest').v\n",
        "v250 = ds_v.sel(level=250, method='nearest').v\n",
        "hur  = ds_r.sel(level=[500, 700, 850], method='nearest').mean('level').r\n",
        "\n",
        "# # Create the dataset\n",
        "ds = xr.Dataset()\n",
        "ds['u850'] = (('time','lat','lon'), u850.values)\n",
        "ds['u250']  = (('time','lat','lon'), u250.values)\n",
        "ds['v850']  = (('time','lat','lon'), v850.values)\n",
        "ds['v250']  = (('time','lat','lon'), v250.values)\n",
        "ds['hur']  = (('time','lat','lon'),  hur.values)\n",
        "\n",
        "# Assign coordinates\n",
        "ds.coords['lat'] = (('lat'), ds_u.latitude.values)\n",
        "ds.coords['lon'] = (('lon'), ds_u.longitude.values)\n",
        "ds.coords['time'] = (('time'), ds_u.time.values)\n",
        "ds.coords['month'] = (('month'), np.arange(1,13))\n",
        "\n",
        "# Assign units and long_name to variables\n",
        "ds['u250'].attrs['units'] = 'm/s'\n",
        "ds['u250'].attrs['long_name'] = '250 hPa zonal wind'\n",
        "\n",
        "ds['u850'].attrs['units'] = 'm/s'\n",
        "ds['u850'].attrs['long_name'] = '850 hPa zonal wind'\n",
        "\n",
        "ds['v250'].attrs['units'] = 'm/s'\n",
        "ds['v250'].attrs['long_name'] = '250 hPa meridional wind'\n",
        "\n",
        "ds['v850'].attrs['units'] = 'm/s'\n",
        "ds['v850'].attrs['long_name'] = '850 hPa meridional wind'\n",
        "\n",
        "ds['hur'].attrs['units'] = '%'\n",
        "ds['hur'].attrs['long_name'] = 'Relative humidity averaged over 500, 700 and 850 hpa'\n",
        "\n",
        "keys = list(ds.keys())\n",
        "da_vars = []\n",
        "for key in keys:\n",
        "  out = ([interp_2d_grid(ds['lon'],ds['lat'],ds[key].sel(time=np.datetime64(str(yearTC)+\"-%02d-01\" % x)), ds_pi['lon'],ds_pi['lat']) for x in range(1, 13)])\n",
        "  da_vars.append(xr.DataArray(data = np.concatenate([arr[np.newaxis, ...] for arr in out]), dims = ['time', 'lat', 'lon'], coords = {'time': ds['time'].data, 'lon': ds_pi['lon'].data, 'lat': ds_pi['lat'].data}).rename(key))\n",
        "ds_regrid = xr.merge(da_vars)\n",
        "ds_regrid['PI'] = (('time','lat','lon'),  ds_pi.vmax.values)\n",
        "ds_regrid.to_netcdf(f\"I_MLR_{yearTC}.nc\")"
      ],
      "metadata": {
        "id": "xXtx-451Mc5V",
        "colab": {
          "base_uri": "https://localhost:8080/"
        },
        "outputId": "81c82613-1123-434c-f547-6a604b7894b4"
      },
      "execution_count": 14,
      "outputs": [
        {
          "output_type": "stream",
          "name": "stderr",
          "text": [
            "Downloading data from 'doi:10.5281/zenodo.11631930/u_component_of_wind_2017.nc' to file '/root/.cache/pooch/210e4bcb65af9f0089691c22493e06f8-u_component_of_wind_2017.nc'.\n",
            "SHA256 hash of downloaded file: c616d470458544c6501da4b7f1df40f96cfe06868000646b8641e7e8a8f083eb\n",
            "Use this value as the 'known_hash' argument of 'pooch.retrieve' to ensure that the file hasn't changed if it is downloaded again in the future.\n",
            "Downloading data from 'doi:10.5281/zenodo.11631930/v_component_of_wind_2017.nc' to file '/root/.cache/pooch/00ef99ea1a86f2e4470cbde8fa633702-v_component_of_wind_2017.nc'.\n",
            "SHA256 hash of downloaded file: d8e1cbf0d035205b7099c8c669b5e5b034b9ef6ab9e33c0e2e7d25c78770f763\n",
            "Use this value as the 'known_hash' argument of 'pooch.retrieve' to ensure that the file hasn't changed if it is downloaded again in the future.\n",
            "Downloading data from 'doi:10.5281/zenodo.11631930/relative_humidity_2017.nc' to file '/root/.cache/pooch/7e5efd5b3aa270320164267a1cc8d484-relative_humidity_2017.nc'.\n",
            "SHA256 hash of downloaded file: 5389ec5639d48eac56b5f00d166d644c786d1578f1b06f666ac6dcade6ff9088\n",
            "Use this value as the 'known_hash' argument of 'pooch.retrieve' to ensure that the file hasn't changed if it is downloaded again in the future.\n"
          ]
        }
      ]
    },
    {
      "cell_type": "markdown",
      "source": [
        "### Step 4: It is always good to check your data"
      ],
      "metadata": {
        "id": "byke4ZjFenZE"
      }
    },
    {
      "cell_type": "code",
      "source": [
        "ds_regrid['hur'][2].plot.pcolormesh()"
      ],
      "metadata": {
        "colab": {
          "base_uri": "https://localhost:8080/",
          "height": 489
        },
        "id": "AuPpIbgZbobW",
        "outputId": "1c205fa3-6df2-49ce-cbd8-a4c08ffa6ce4"
      },
      "execution_count": 15,
      "outputs": [
        {
          "output_type": "execute_result",
          "data": {
            "text/plain": [
              "<matplotlib.collections.QuadMesh at 0x7fd439c22860>"
            ]
          },
          "metadata": {},
          "execution_count": 15
        },
        {
          "output_type": "display_data",
          "data": {
            "text/plain": [
              "<Figure size 640x480 with 2 Axes>"
            ],
            "image/png": "[encoded data removed]"
          },
          "metadata": {}
        }
      ]
    },
    {
      "cell_type": "code",
      "source": [],
      "metadata": {
        "id": "mVR8PrTHeKMS"
      },
      "execution_count": null,
      "outputs": []
    }
  ]
}